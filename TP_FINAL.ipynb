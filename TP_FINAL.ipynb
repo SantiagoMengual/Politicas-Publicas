{
  "nbformat": 4,
  "nbformat_minor": 0,
  "metadata": {
    "colab": {
      "provenance": [],
      "mount_file_id": "1byviGy4tSKSG1rbW_8tVSB-ZohC3QwUf",
      "authorship_tag": "ABX9TyPm6z9BUM2rpPLHRRjCj8r1",
      "include_colab_link": true
    },
    "kernelspec": {
      "name": "python3",
      "display_name": "Python 3"
    },
    "language_info": {
      "name": "python"
    }
  },
  "cells": [
    {
      "cell_type": "markdown",
      "metadata": {
        "id": "view-in-github",
        "colab_type": "text"
      },
      "source": [
        "<a href=\"https://colab.research.google.com/github/SantiagoMengual/Politicas-Publicas/blob/main/TP_FINAL.ipynb\" target=\"_parent\"><img src=\"https://colab.research.google.com/assets/colab-badge.svg\" alt=\"Open In Colab\"/></a>"
      ]
    },
    {
      "cell_type": "markdown",
      "source": [
        "Trabajo Final: Análisis geoespacial de la población que utilizó las bicicletas públicas para ir a su trabajo.\n",
        "\n",
        "El siguiente trabajo busca conocer la ubicación y recorrido en la Ciudad de Buenos Aires de la población que utiliza la Ecobici para ir al trabajo.\n",
        "\n",
        "Para dicho objetivo, trbajamos con la base de datos pública y abierta de los usuarios que utilizaron la Ecobici en el año 2023 y filtraremos para quedarnos con quienes la utilizaron entre als 6 AM y las 8 AM más de 8 minutos, cometiendo el salto intuitivo de inducir que dicha población la utiliza para trasladarse a su trabajo.\n",
        "\n",
        "Mediante análisis de patrones en el espacio, clausterización y grafos se buscará llegar a nuevas conclusiones.\n",
        "\n",
        ".Análisis de patrones en el espacio en base a la estación de origen de la población\n",
        "\n",
        ".Clausterización del segmento de la población de la estación de origen con mayor peso en la muestra. Se buscará clausterizar en base al destino de dichos usuariois.\n",
        "\n",
        ".Análisis de grafos: Trabajando con el mismo grupo poblacional, se buscará la ruta óptima para el viaje más repetido.\n",
        "\n",
        "\n",
        "\n"
      ],
      "metadata": {
        "id": "bKGdjt4Ck5o4"
      }
    },
    {
      "cell_type": "code",
      "source": [
        "\n",
        "### Montamos drive\n",
        "\n",
        "from google.colab import drive\n",
        "drive.mount('/content/drive')"
      ],
      "metadata": {
        "colab": {
          "base_uri": "https://localhost:8080/"
        },
        "id": "Y4OoOew-OxVn",
        "outputId": "07fd1830-8b62-400b-cca6-d05400c1e415"
      },
      "execution_count": 1,
      "outputs": [
        {
          "output_type": "stream",
          "name": "stdout",
          "text": [
            "Drive already mounted at /content/drive; to attempt to forcibly remount, call drive.mount(\"/content/drive\", force_remount=True).\n"
          ]
        }
      ]
    },
    {
      "cell_type": "code",
      "source": [
        "# instalamos algunas librerias nuevas que vamos a usar\n",
        "!pip install mapclassify folium pointpats contextily pygeos h3\n",
        "\n",
        "# importamos librerias\n",
        "import pandas as pd\n",
        "import numpy as np\n",
        "\n",
        "import geopandas as gpd\n",
        "\n",
        "### Importar bibliotecas con alias es una práctica común en Python que ayuda a hacer el código más limpio y legible.\n",
        "\n",
        "# PySAL va a ser una gran protagonista de acá en más\n",
        "import libpysal\n",
        "from pygeos import minimum_rotated_rectangle, from_shapely, to_shapely\n",
        "\n",
        "### Importar las funciones directamente ahorra el llamar a las librerias.\n",
        "\n",
        "\n",
        "import h3 #libreria para trabajar con hexagonos\n",
        "\n",
        "from pointpats import centrography\n",
        "from pointpats.centrography import hull, mbr, mean_center, weighted_mean_center, manhattan_median, std_distance,euclidean_median,ellipse\n",
        "\n",
        "import matplotlib.pyplot as plt\n",
        "from matplotlib.patches import Polygon as PolygonM #noten como usamos otro alias\n",
        "from shapely.geometry import Polygon\n",
        "\n",
        "from matplotlib.patches import Circle, Rectangle,Ellipse\n",
        "\n",
        "import seaborn as sns\n",
        "import contextily as ctx"
      ],
      "metadata": {
        "colab": {
          "base_uri": "https://localhost:8080/"
        },
        "id": "qHlCjLp7-UVt",
        "outputId": "8f294818-7983-4079-c6a1-b38274db6617"
      },
      "execution_count": 2,
      "outputs": [
        {
          "output_type": "stream",
          "name": "stdout",
          "text": [
            "Collecting mapclassify\n",
            "  Downloading mapclassify-2.8.1-py3-none-any.whl.metadata (2.8 kB)\n",
            "Requirement already satisfied: folium in /usr/local/lib/python3.11/dist-packages (0.19.4)\n",
            "Collecting pointpats\n",
            "  Downloading pointpats-2.5.1-py3-none-any.whl.metadata (4.7 kB)\n",
            "Collecting contextily\n",
            "  Downloading contextily-1.6.2-py3-none-any.whl.metadata (2.9 kB)\n",
            "Collecting pygeos\n",
            "  Downloading pygeos-0.14-cp311-cp311-manylinux_2_17_x86_64.manylinux2014_x86_64.whl.metadata (4.9 kB)\n",
            "Collecting h3\n",
            "  Downloading h3-4.2.0-cp311-cp311-manylinux_2_17_x86_64.manylinux2014_x86_64.whl.metadata (18 kB)\n",
            "Requirement already satisfied: networkx>=2.7 in /usr/local/lib/python3.11/dist-packages (from mapclassify) (3.4.2)\n",
            "Requirement already satisfied: numpy>=1.23 in /usr/local/lib/python3.11/dist-packages (from mapclassify) (1.26.4)\n",
            "Requirement already satisfied: pandas!=1.5.0,>=1.4 in /usr/local/lib/python3.11/dist-packages (from mapclassify) (2.2.2)\n",
            "Requirement already satisfied: scikit-learn>=1.0 in /usr/local/lib/python3.11/dist-packages (from mapclassify) (1.6.1)\n",
            "Requirement already satisfied: scipy>=1.8 in /usr/local/lib/python3.11/dist-packages (from mapclassify) (1.13.1)\n",
            "Requirement already satisfied: branca>=0.6.0 in /usr/local/lib/python3.11/dist-packages (from folium) (0.8.1)\n",
            "Requirement already satisfied: jinja2>=2.9 in /usr/local/lib/python3.11/dist-packages (from folium) (3.1.5)\n",
            "Requirement already satisfied: requests in /usr/local/lib/python3.11/dist-packages (from folium) (2.32.3)\n",
            "Requirement already satisfied: xyzservices in /usr/local/lib/python3.11/dist-packages (from folium) (2025.1.0)\n",
            "Collecting libpysal>=4.8 (from pointpats)\n",
            "  Downloading libpysal-4.12.1-py3-none-any.whl.metadata (4.8 kB)\n",
            "Requirement already satisfied: geopandas>=0.12 in /usr/local/lib/python3.11/dist-packages (from pointpats) (1.0.1)\n",
            "Requirement already satisfied: matplotlib>=3.6 in /usr/local/lib/python3.11/dist-packages (from pointpats) (3.10.0)\n",
            "Requirement already satisfied: shapely>=2 in /usr/local/lib/python3.11/dist-packages (from pointpats) (2.0.6)\n",
            "Requirement already satisfied: geopy in /usr/local/lib/python3.11/dist-packages (from contextily) (2.4.1)\n",
            "Collecting mercantile (from contextily)\n",
            "  Downloading mercantile-1.2.1-py3-none-any.whl.metadata (4.8 kB)\n",
            "Requirement already satisfied: pillow in /usr/local/lib/python3.11/dist-packages (from contextily) (11.1.0)\n",
            "Collecting rasterio (from contextily)\n",
            "  Downloading rasterio-1.4.3-cp311-cp311-manylinux_2_17_x86_64.manylinux2014_x86_64.whl.metadata (9.1 kB)\n",
            "Requirement already satisfied: joblib in /usr/local/lib/python3.11/dist-packages (from contextily) (1.4.2)\n",
            "Requirement already satisfied: pyogrio>=0.7.2 in /usr/local/lib/python3.11/dist-packages (from geopandas>=0.12->pointpats) (0.10.0)\n",
            "Requirement already satisfied: packaging in /usr/local/lib/python3.11/dist-packages (from geopandas>=0.12->pointpats) (24.2)\n",
            "Requirement already satisfied: pyproj>=3.3.0 in /usr/local/lib/python3.11/dist-packages (from geopandas>=0.12->pointpats) (3.7.0)\n",
            "Requirement already satisfied: MarkupSafe>=2.0 in /usr/local/lib/python3.11/dist-packages (from jinja2>=2.9->folium) (3.0.2)\n",
            "Requirement already satisfied: beautifulsoup4>=4.10 in /usr/local/lib/python3.11/dist-packages (from libpysal>=4.8->pointpats) (4.12.3)\n",
            "Requirement already satisfied: platformdirs>=2.0.2 in /usr/local/lib/python3.11/dist-packages (from libpysal>=4.8->pointpats) (4.3.6)\n",
            "Requirement already satisfied: contourpy>=1.0.1 in /usr/local/lib/python3.11/dist-packages (from matplotlib>=3.6->pointpats) (1.3.1)\n",
            "Requirement already satisfied: cycler>=0.10 in /usr/local/lib/python3.11/dist-packages (from matplotlib>=3.6->pointpats) (0.12.1)\n",
            "Requirement already satisfied: fonttools>=4.22.0 in /usr/local/lib/python3.11/dist-packages (from matplotlib>=3.6->pointpats) (4.55.7)\n",
            "Requirement already satisfied: kiwisolver>=1.3.1 in /usr/local/lib/python3.11/dist-packages (from matplotlib>=3.6->pointpats) (1.4.8)\n",
            "Requirement already satisfied: pyparsing>=2.3.1 in /usr/local/lib/python3.11/dist-packages (from matplotlib>=3.6->pointpats) (3.2.1)\n",
            "Requirement already satisfied: python-dateutil>=2.7 in /usr/local/lib/python3.11/dist-packages (from matplotlib>=3.6->pointpats) (2.8.2)\n",
            "Requirement already satisfied: pytz>=2020.1 in /usr/local/lib/python3.11/dist-packages (from pandas!=1.5.0,>=1.4->mapclassify) (2024.2)\n",
            "Requirement already satisfied: tzdata>=2022.7 in /usr/local/lib/python3.11/dist-packages (from pandas!=1.5.0,>=1.4->mapclassify) (2025.1)\n",
            "Requirement already satisfied: charset-normalizer<4,>=2 in /usr/local/lib/python3.11/dist-packages (from requests->folium) (3.4.1)\n",
            "Requirement already satisfied: idna<4,>=2.5 in /usr/local/lib/python3.11/dist-packages (from requests->folium) (3.10)\n",
            "Requirement already satisfied: urllib3<3,>=1.21.1 in /usr/local/lib/python3.11/dist-packages (from requests->folium) (2.3.0)\n",
            "Requirement already satisfied: certifi>=2017.4.17 in /usr/local/lib/python3.11/dist-packages (from requests->folium) (2024.12.14)\n",
            "Requirement already satisfied: threadpoolctl>=3.1.0 in /usr/local/lib/python3.11/dist-packages (from scikit-learn>=1.0->mapclassify) (3.5.0)\n",
            "Requirement already satisfied: geographiclib<3,>=1.52 in /usr/local/lib/python3.11/dist-packages (from geopy->contextily) (2.0)\n",
            "Requirement already satisfied: click>=3.0 in /usr/local/lib/python3.11/dist-packages (from mercantile->contextily) (8.1.8)\n",
            "Collecting affine (from rasterio->contextily)\n",
            "  Downloading affine-2.4.0-py3-none-any.whl.metadata (4.0 kB)\n",
            "Requirement already satisfied: attrs in /usr/local/lib/python3.11/dist-packages (from rasterio->contextily) (25.1.0)\n",
            "Collecting cligj>=0.5 (from rasterio->contextily)\n",
            "  Downloading cligj-0.7.2-py3-none-any.whl.metadata (5.0 kB)\n",
            "Collecting click-plugins (from rasterio->contextily)\n",
            "  Downloading click_plugins-1.1.1-py2.py3-none-any.whl.metadata (6.4 kB)\n",
            "Requirement already satisfied: soupsieve>1.2 in /usr/local/lib/python3.11/dist-packages (from beautifulsoup4>=4.10->libpysal>=4.8->pointpats) (2.6)\n",
            "Requirement already satisfied: six>=1.5 in /usr/local/lib/python3.11/dist-packages (from python-dateutil>=2.7->matplotlib>=3.6->pointpats) (1.17.0)\n",
            "Downloading mapclassify-2.8.1-py3-none-any.whl (59 kB)\n",
            "\u001b[2K   \u001b[90m━━━━━━━━━━━━━━━━━━━━━━━━━━━━━━━━━━━━━━━━\u001b[0m \u001b[32m59.1/59.1 kB\u001b[0m \u001b[31m4.4 MB/s\u001b[0m eta \u001b[36m0:00:00\u001b[0m\n",
            "\u001b[?25hDownloading pointpats-2.5.1-py3-none-any.whl (59 kB)\n",
            "\u001b[2K   \u001b[90m━━━━━━━━━━━━━━━━━━━━━━━━━━━━━━━━━━━━━━━━\u001b[0m \u001b[32m59.2/59.2 kB\u001b[0m \u001b[31m4.6 MB/s\u001b[0m eta \u001b[36m0:00:00\u001b[0m\n",
            "\u001b[?25hDownloading contextily-1.6.2-py3-none-any.whl (17 kB)\n",
            "Downloading pygeos-0.14-cp311-cp311-manylinux_2_17_x86_64.manylinux2014_x86_64.whl (2.2 MB)\n",
            "\u001b[2K   \u001b[90m━━━━━━━━━━━━━━━━━━━━━━━━━━━━━━━━━━━━━━━━\u001b[0m \u001b[32m2.2/2.2 MB\u001b[0m \u001b[31m40.2 MB/s\u001b[0m eta \u001b[36m0:00:00\u001b[0m\n",
            "\u001b[?25hDownloading h3-4.2.0-cp311-cp311-manylinux_2_17_x86_64.manylinux2014_x86_64.whl (1.0 MB)\n",
            "\u001b[2K   \u001b[90m━━━━━━━━━━━━━━━━━━━━━━━━━━━━━━━━━━━━━━━━\u001b[0m \u001b[32m1.0/1.0 MB\u001b[0m \u001b[31m43.3 MB/s\u001b[0m eta \u001b[36m0:00:00\u001b[0m\n",
            "\u001b[?25hDownloading libpysal-4.12.1-py3-none-any.whl (2.8 MB)\n",
            "\u001b[2K   \u001b[90m━━━━━━━━━━━━━━━━━━━━━━━━━━━━━━━━━━━━━━━━\u001b[0m \u001b[32m2.8/2.8 MB\u001b[0m \u001b[31m59.2 MB/s\u001b[0m eta \u001b[36m0:00:00\u001b[0m\n",
            "\u001b[?25hDownloading mercantile-1.2.1-py3-none-any.whl (14 kB)\n",
            "Downloading rasterio-1.4.3-cp311-cp311-manylinux_2_17_x86_64.manylinux2014_x86_64.whl (22.2 MB)\n",
            "\u001b[2K   \u001b[90m━━━━━━━━━━━━━━━━━━━━━━━━━━━━━━━━━━━━━━━━\u001b[0m \u001b[32m22.2/22.2 MB\u001b[0m \u001b[31m52.4 MB/s\u001b[0m eta \u001b[36m0:00:00\u001b[0m\n",
            "\u001b[?25hDownloading cligj-0.7.2-py3-none-any.whl (7.1 kB)\n",
            "Downloading affine-2.4.0-py3-none-any.whl (15 kB)\n",
            "Downloading click_plugins-1.1.1-py2.py3-none-any.whl (7.5 kB)\n",
            "Installing collected packages: pygeos, mercantile, h3, cligj, click-plugins, affine, rasterio, mapclassify, contextily, libpysal, pointpats\n",
            "Successfully installed affine-2.4.0 click-plugins-1.1.1 cligj-0.7.2 contextily-1.6.2 h3-4.2.0 libpysal-4.12.1 mapclassify-2.8.1 mercantile-1.2.1 pointpats-2.5.1 pygeos-0.14 rasterio-1.4.3\n"
          ]
        }
      ]
    },
    {
      "cell_type": "code",
      "source": [
        "data_path = '/content/drive/MyDrive/Qgis 2024/Data/'\n"
      ],
      "metadata": {
        "id": "VVcYbpBBBuMV"
      },
      "execution_count": null,
      "outputs": []
    },
    {
      "cell_type": "code",
      "source": [
        "viajes = pd.read_csv(data_path + 'trips_2023.csv')\n",
        "viajes.sample(3)"
      ],
      "metadata": {
        "id": "OouXdmiyCqCT"
      },
      "execution_count": null,
      "outputs": []
    },
    {
      "cell_type": "code",
      "source": [
        "print(viajes.columns)"
      ],
      "metadata": {
        "id": "WPLZ13BwEpEN"
      },
      "execution_count": null,
      "outputs": []
    },
    {
      "cell_type": "code",
      "source": [
        "# Eliminamos columas que no sirven\n",
        "viajes = viajes.drop(['Unnamed: 0', 'modelo_bicicleta'], axis=1)\n"
      ],
      "metadata": {
        "id": "MoDmPKsIDlRQ"
      },
      "execution_count": null,
      "outputs": []
    },
    {
      "cell_type": "code",
      "source": [
        "# Nos quedamos con los viajes que se hayan realizado entre las 6 AM y las 8 AM\n",
        "\n",
        "viajes_mañana = viajes[viajes['fecha_origen_recorrido'].str.contains('0[6-8]:')]\n"
      ],
      "metadata": {
        "id": "4Q4flUNjEkkA"
      },
      "execution_count": null,
      "outputs": []
    },
    {
      "cell_type": "code",
      "source": [
        "## La población es todavía muy grande y poco definida\n",
        "\n",
        "len(viajes_mañana)"
      ],
      "metadata": {
        "id": "TY6KOU-LGf4i"
      },
      "execution_count": null,
      "outputs": []
    },
    {
      "cell_type": "code",
      "source": [
        "# Filtramos los viajes por duración: solo nos quedamos con los que hayan durado más de 480 segundos (8 minutos)\n",
        "\n",
        "viajes_mañana['duracion_recorrido'] = viajes_mañana['duracion_recorrido'].str.replace(',', '').astype(int)\n",
        "\n",
        "viajes_mañana = viajes_mañana[viajes_mañana['duracion_recorrido'] > 480]"
      ],
      "metadata": {
        "id": "h4LtYajMH-KO"
      },
      "execution_count": null,
      "outputs": []
    },
    {
      "cell_type": "code",
      "source": [
        "len(viajes_mañana)"
      ],
      "metadata": {
        "id": "xm51cYVvI4Fz"
      },
      "execution_count": null,
      "outputs": []
    },
    {
      "cell_type": "code",
      "source": [
        "# Nos quedamos con los usuarios que hayan repetido origen y destino al menos una vez\n",
        "\n",
        "origen_y_destino = viajes_mañana[viajes_mañana.duplicated(subset=['id_usuario', 'id_estacion_destino', 'id_estacion_origen'], keep=False)]\n",
        "\n"
      ],
      "metadata": {
        "id": "uRWjyrYTJhM9"
      },
      "execution_count": null,
      "outputs": []
    },
    {
      "cell_type": "code",
      "source": [
        "# Creamos el factor de expansión\n",
        "\n",
        "trip_counts = origen_y_destino.groupby(['id_usuario', 'id_estacion_origen', 'id_estacion_destino'])['id_usuario'].transform('count')\n",
        "\n",
        "# Add the trip count as a new column called 'expansion_factor'\n",
        "origen_y_destino['expansion_factor'] = trip_counts\n",
        "\n"
      ],
      "metadata": {
        "id": "GxQhJxX1pTvF"
      },
      "execution_count": null,
      "outputs": []
    },
    {
      "cell_type": "code",
      "source": [
        "origen_y_destino.head(3)"
      ],
      "metadata": {
        "id": "oYgl9Vcloqkf"
      },
      "execution_count": null,
      "outputs": []
    },
    {
      "cell_type": "code",
      "source": [
        "# Eliminamos los casos donde los nombres de las estaciones de origen y destino son iguales.\n",
        "# Estos son casos donde el vijae enrealidad nunca salió de la estación.\n",
        "\n",
        "origen_y_destino = origen_y_destino[origen_y_destino['nombre_estacion_origen'] != origen_y_destino['nombre_estacion_destino']]"
      ],
      "metadata": {
        "id": "TjxaHRq4q1Z2"
      },
      "execution_count": null,
      "outputs": []
    },
    {
      "cell_type": "code",
      "source": [
        "\n",
        "# Nos quedamos con las columnas que nos sirven y las reordenamos\n",
        "\n",
        "origen = origen_y_destino[['id_usuario', 'nombre_estacion_origen', 'long_estacion_origen', 'lat_estacion_origen', 'expansion_factor']].copy()\n",
        "\n",
        "origen.head(3)\n",
        "\n"
      ],
      "metadata": {
        "id": "64P--OlSwJ1-"
      },
      "execution_count": null,
      "outputs": []
    },
    {
      "cell_type": "code",
      "source": [
        "# Renombramos las columas\n",
        "\n",
        "origen.rename(columns={\n",
        "    'id_usuario': 'ID',\n",
        "    'nombre_estacion_origen': 'NOMBRE',\n",
        "    'long_estacion_origen': 'LONGITUD',\n",
        "    'lat_estacion_origen': 'LATITUD',\n",
        "    'expansion_factor': 'FACTOR_EXPANSION'\n",
        "}, inplace=True)\n",
        "\n",
        "origen.head(3)"
      ],
      "metadata": {
        "id": "DMRx9sTLxhwC"
      },
      "execution_count": null,
      "outputs": []
    },
    {
      "cell_type": "code",
      "source": [
        "# Nos quedamos con los usuarios cuyo factor de expansión sea mayor a 10. Eliminamos usuarios cuyo peso no es significativo.\n",
        "\n",
        "origen_filtrado = origen[origen['FACTOR_EXPANSION'] > 10]\n",
        "\n",
        "origen_filtrado.head()"
      ],
      "metadata": {
        "id": "CLznOwoD06F8"
      },
      "execution_count": null,
      "outputs": []
    },
    {
      "cell_type": "code",
      "source": [
        "len(origen_filtrado)"
      ],
      "metadata": {
        "id": "o9dV2uqn0mu5"
      },
      "execution_count": null,
      "outputs": []
    },
    {
      "cell_type": "code",
      "source": [
        "# Eliminamos los duplicados, con el factor de expansión ya no nos sirven.\n",
        "\n",
        "origen_filtrado = origen_filtrado.drop_duplicates(subset='ID', keep='first')\n",
        "\n",
        "origen_filtrado.head()"
      ],
      "metadata": {
        "id": "8FgHXLzs3Rqg"
      },
      "execution_count": null,
      "outputs": []
    },
    {
      "cell_type": "code",
      "source": [],
      "metadata": {
        "id": "uEnUfeNuqr2-"
      },
      "execution_count": null,
      "outputs": []
    },
    {
      "cell_type": "code",
      "source": [
        "#Tenemos un grupo de estudio bien delimitado. Podemos comenzar a trabajar.\n",
        "\n",
        "len(origen_filtrado)"
      ],
      "metadata": {
        "id": "pwcKQIvTV1qe"
      },
      "execution_count": null,
      "outputs": []
    },
    {
      "cell_type": "code",
      "source": [
        "#Como primera aproximación generamos un mapa de calor\n",
        "\n",
        "f, ax = plt.subplots(1, figsize=(9, 9))\n",
        "\n",
        "sns.kdeplot(\n",
        "    x=\"LONGITUD\",\n",
        "    y=\"LATITUD\",\n",
        "    data=origen_filtrado,\n",
        "    n_levels= 5, #pueden ajustar este parametro\n",
        "    fill=True,\n",
        "    alpha=0.55,\n",
        "    cmap=\"coolwarm\",\n",
        ")\n",
        "ctx.add_basemap(\n",
        "    ax, source=ctx.providers.CartoDB.Positron, crs=\"EPSG:4326\"\n",
        ")\n",
        "ax.set_axis_on()"
      ],
      "metadata": {
        "id": "UHxt_CBkxNCB"
      },
      "execution_count": null,
      "outputs": []
    },
    {
      "cell_type": "code",
      "source": [
        "orgien_filtrado = gpd.GeoDataFrame(origen_filtrado, geometry = gpd.GeoSeries.from_xy(x = origen.LONGITUD,y = origen.LATITUD, crs = 4326))\n"
      ],
      "metadata": {
        "id": "cw1o7b_SwGr2"
      },
      "execution_count": null,
      "outputs": []
    },
    {
      "cell_type": "code",
      "source": [
        "## Para una mayor delimitación en el espacio, trabajamos con hexágonos\n",
        "\n",
        "f, ax = plt.subplots(1, figsize=(12, 9))\n",
        "\n",
        "hb = ax.hexbin(\n",
        "    origen_filtrado[\"LONGITUD\"],\n",
        "    origen_filtrado[\"LATITUD\"],\n",
        "    gridsize=10,\n",
        "    linewidths=0,\n",
        "    alpha=0.5,\n",
        "    cmap=\"coolwarm\",\n",
        ")\n",
        "\n",
        "ctx.add_basemap(\n",
        "    ax, source=ctx.providers.CartoDB.Positron,crs=\"EPSG:4326\",\n",
        ")\n",
        "# Agregamos una barra de color a modo de leyenda\n",
        "plt.colorbar(hb)\n",
        "ax.set_axis_off()"
      ],
      "metadata": {
        "id": "dk26NH932-yy"
      },
      "execution_count": null,
      "outputs": []
    },
    {
      "cell_type": "code",
      "source": [
        "!pip install h3==3.7.6\n",
        "\n",
        "\n",
        "import h3\n",
        "h3.geo_to_h3?\n"
      ],
      "metadata": {
        "id": "yISOR5he3PTh"
      },
      "execution_count": null,
      "outputs": []
    },
    {
      "cell_type": "code",
      "source": [
        "row = origen_filtrado.iloc[0]"
      ],
      "metadata": {
        "id": "2fQIRbZdZce1"
      },
      "execution_count": null,
      "outputs": []
    },
    {
      "cell_type": "code",
      "source": [
        "h3.geo_to_h3(lat = row.LATITUD, lng = row.LONGITUD, resolution = 8)"
      ],
      "metadata": {
        "id": "XiCZONlTZe3p"
      },
      "execution_count": null,
      "outputs": []
    },
    {
      "cell_type": "code",
      "source": [
        "origen_filtrado['h3'] = origen_filtrado.apply(lambda row: h3.geo_to_h3(lat = row.LATITUD, lng = row.LONGITUD, resolution = 8),axis=1)\n",
        "origen_x_h3 = origen_filtrado.reindex(columns = ['h3','FACTOR_EXPANSION']).groupby('h3',as_index=False).sum()\n",
        "geoms = origen_x_h3['h3'].map(lambda h: Polygon(h3.h3_to_geo_boundary(h,geo_json=True)[::-1]))\n",
        "origen_x_h3 = gpd.GeoDataFrame(origen_x_h3, geometry = geoms, crs = 4326)\n",
        "origen_x_h3.sample(3)"
      ],
      "metadata": {
        "id": "CDoD0vEFaa5z"
      },
      "execution_count": null,
      "outputs": []
    },
    {
      "cell_type": "code",
      "source": [
        "origen_x_h3.explore(column = 'FACTOR_EXPANSION', scheme = 'fisherjenks', k = 5, tiles=\"CartoDB positron\")"
      ],
      "metadata": {
        "id": "xo9Sh1DQbJA0"
      },
      "execution_count": null,
      "outputs": []
    },
    {
      "cell_type": "code",
      "source": [
        "# Averiguamos cual es la estación con h3 88c2e31101fffff\n",
        "\n",
        "origen_x_h3_filtered = origen_filtrado[origen_filtrado['h3'] == '88c2e31101fffff']\n",
        "\n",
        "origen_x_h3_filtered.head(180)\n",
        "\n",
        "nombre_values = origen_x_h3_filtered['NOMBRE'].unique()\n",
        "\n",
        "if len(nombre_values) == 1:\n",
        "  print(f\"All rows in 'origen_x_h3_filtered' share the same NOMBRE: {nombre_values[0]}\")\n",
        "else:\n",
        "  print(\"Rows in 'origen_x_h3_filtered' do not share the same NOMBRE.\")\n",
        "  print(f\"Unique NOMBRE values: {nombre_values}\")\n",
        "\n",
        "count_147_constitucion = origen_filtrado[origen_filtrado['NOMBRE'] == '147 - Constitución'].shape[0]\n",
        "\n",
        "print(f\"Number of rows with NOMBRE '147 - Constitución': {count_147_constitucion}\")\n"
      ],
      "metadata": {
        "id": "uITur7d6n_sa"
      },
      "execution_count": null,
      "outputs": []
    },
    {
      "cell_type": "code",
      "source": [],
      "metadata": {
        "id": "pO2ozFbm9UVO"
      },
      "execution_count": null,
      "outputs": []
    },
    {
      "cell_type": "code",
      "source": [],
      "metadata": {
        "id": "zzlNKTl09OD7"
      },
      "execution_count": null,
      "outputs": []
    },
    {
      "cell_type": "markdown",
      "source": [
        "Primera conclusión\n",
        "\n",
        "La estación más utilizada como punto de partida con destino repetido es la estación de Constitución con 185 usuarios."
      ],
      "metadata": {
        "id": "0lXvsftDoSDD"
      }
    },
    {
      "cell_type": "code",
      "source": [
        "#Graficamos las medidas de tendencia central. Primero las calculamos\n",
        "\n",
        "mean_center = centrography.mean_center(origen_filtrado[[\"LONGITUD\", \"LATITUD\"]])\n",
        "med_center = centrography.euclidean_median(origen_filtrado[[\"LONGITUD\", \"LATITUD\"]])\n"
      ],
      "metadata": {
        "id": "pxTWihhEewHp"
      },
      "execution_count": null,
      "outputs": []
    },
    {
      "cell_type": "code",
      "source": [
        "joint_axes = sns.jointplot(x=\"LONGITUD\", y=\"LATITUD\", data=origen_filtrado, s=0.5);\n",
        "\n",
        "# Agregamos esas medidas al plot\n",
        "joint_axes.ax_joint.scatter(\n",
        "    *mean_center, color=\"red\", marker=\"x\", s=50, label=\"Centro por la media\"\n",
        ")\n",
        "joint_axes.ax_marg_x.axvline(mean_center[0], color=\"red\")\n",
        "joint_axes.ax_marg_y.axhline(mean_center[1], color=\"red\")\n",
        "\n",
        "joint_axes.ax_joint.scatter(\n",
        "    *med_center,\n",
        "    color=\"limegreen\",\n",
        "    marker=\"o\",\n",
        "    s=50,\n",
        "    label=\"Centro por la mediana\"\n",
        ")\n",
        "joint_axes.ax_marg_x.axvline(med_center[0], color=\"limegreen\")\n",
        "joint_axes.ax_marg_y.axhline(med_center[1], color=\"limegreen\")\n",
        "\n",
        "joint_axes.ax_joint.legend()\n",
        "ctx.add_basemap(\n",
        "    joint_axes.ax_joint, source=ctx.providers.CartoDB.Positron,\n",
        "    crs=\"EPSG:4326\",\n",
        "\n",
        ")\n",
        "joint_axes.ax_joint.set_axis_off()\n",
        "plt.show()"
      ],
      "metadata": {
        "id": "oCvcoKjLf-e5"
      },
      "execution_count": null,
      "outputs": []
    },
    {
      "cell_type": "code",
      "source": [
        "major, minor, rotation = centrography.ellipse(origen_filtrado[[\"LONGITUD\", \"LATITUD\"]])"
      ],
      "metadata": {
        "id": "ernMP-magfSH"
      },
      "execution_count": null,
      "outputs": []
    },
    {
      "cell_type": "code",
      "source": [
        "f, ax = plt.subplots(1, figsize=(9, 9))\n",
        "# Crear un simple scatter\n",
        "ax.scatter(origen_filtrado[\"LONGITUD\"], origen_filtrado[\"LATITUD\"], s=0.75)\n",
        "ax.scatter(*mean_center, color=\"red\", marker=\"x\", label=\"Centro por la media\")\n",
        "ax.scatter(\n",
        "    *med_center, color=\"limegreen\", marker=\"o\", label=\"Centro por la mediana\"\n",
        ")\n",
        "\n",
        "# Construir un objeto elipse de Matplotlib para representar esa dispersion\n",
        "ellipse = Ellipse(\n",
        "    xy=mean_center,  # el centro del elipse\n",
        "    width=major * 2,  # centrography.ellipse da medio eje\n",
        "    height=minor * 2,\n",
        "    angle=np.rad2deg(\n",
        "        rotation\n",
        "    ),  # Los angulos estan en grados\n",
        "    facecolor=\"none\",\n",
        "    edgecolor=\"red\",\n",
        "    linestyle=\"--\",\n",
        "    label=\"Std. Elipse\",\n",
        ")\n",
        "ax.add_patch(ellipse)\n",
        "\n",
        "ax.legend()\n",
        "ctx.add_basemap(\n",
        "    ax, source=ctx.providers.CartoDB.Positron,\n",
        "    crs=\"EPSG:4326\"\n",
        ")\n",
        "plt.show()"
      ],
      "metadata": {
        "id": "dC3XYgQGDyTl"
      },
      "execution_count": null,
      "outputs": []
    },
    {
      "cell_type": "code",
      "source": [
        "origen_filtrado.head(3)"
      ],
      "metadata": {
        "id": "8z4F3EpfIIh1"
      },
      "execution_count": null,
      "outputs": []
    },
    {
      "cell_type": "markdown",
      "source": [
        "# **CLASE 3**"
      ],
      "metadata": {
        "id": "Y00rblvxXM5Z"
      }
    },
    {
      "cell_type": "code",
      "source": [
        "# Creamos un nuevo objeto llamado constitucion_destino que solo se quede con los valores que cumplan en nombre_estacion_origen  : 147 - Constitución.\n",
        "# Luego nos quedamos con las columas 'id_usuario', 'nombre_estacion_destino', 'long_estacion_destino', 'lat_estacion_destino', 'expansion_factor'.\n",
        "# Luego renombramos estas columnas: id_usuario a ID, nombre_estacion_destino a NOMBRE, 'long_estacion_destino' a LONG, 'lat_estacion_destino'.\n",
        "\n",
        "# Filtrar por 'nombre_estacion_origen' == '147 - Constitución'\n",
        "constitucion_destino = origen_y_destino[origen_y_destino['nombre_estacion_origen'] == '147 - Constitución']\n",
        "\n",
        "# Seleccionar columnas\n",
        "constitucion_destino = constitucion_destino[['id_usuario', 'nombre_estacion_destino', 'long_estacion_destino', 'lat_estacion_destino', 'expansion_factor']]\n",
        "\n",
        "# Renombrar columnas\n",
        "constitucion_destino = constitucion_destino.rename(columns={\n",
        "    'id_usuario': 'ID',\n",
        "    'nombre_estacion_destino': 'NOMBRE',\n",
        "    'long_estacion_destino': 'LONGITUD',\n",
        "    'lat_estacion_destino': 'LATITUD',\n",
        "    'expansion_factor': 'FACTOR_EXPANSION'\n",
        "})\n",
        "\n",
        "# Mostrar el nuevo DataFrame\n",
        "constitucion_destino\n"
      ],
      "metadata": {
        "id": "LUacxcr2dnMw"
      },
      "execution_count": null,
      "outputs": []
    },
    {
      "cell_type": "code",
      "source": [
        "# prompt: Dame un caso de constitucion_destino que cumpla la condicion NOMBRE = 255 - BARRANCAS DE BELGRANO\n",
        "\n",
        "# Find rows where NOMBRE is '255 - CONSTITUCION'\n",
        "barrancas_rows = origen_filtrado[origen_filtrado['NOMBRE'] == '147 - Constitución']\n",
        "\n",
        "# Display the matching rows (if any)\n",
        "barrancas_rows"
      ],
      "metadata": {
        "id": "x6bWufPcBiSu"
      },
      "execution_count": null,
      "outputs": []
    },
    {
      "cell_type": "code",
      "source": [],
      "metadata": {
        "id": "DC1cNg-_CmzY"
      },
      "execution_count": null,
      "outputs": []
    },
    {
      "cell_type": "markdown",
      "source": [
        "# **K-MEDIAS**"
      ],
      "metadata": {
        "id": "R8RIiGB5d2su"
      }
    },
    {
      "cell_type": "code",
      "source": [
        "X = constitucion_destino.loc[:,['LONGITUD','LATITUD']].values\n",
        "w = constitucion_destino.FACTOR_EXPANSION.values\n",
        "X"
      ],
      "metadata": {
        "id": "U4dIZYvHXRdZ"
      },
      "execution_count": null,
      "outputs": []
    },
    {
      "cell_type": "code",
      "source": [
        "from sklearn.cluster import KMeans"
      ],
      "metadata": {
        "id": "VGg2EtU4Xa3P"
      },
      "execution_count": null,
      "outputs": []
    },
    {
      "cell_type": "code",
      "source": [
        "# Se crea el objeto para clusterizar\n",
        "kmeans = KMeans(n_clusters=5, random_state=0, n_init=\"auto\")\n",
        "\n",
        "# Se entrena o fitea con los datos y los pesos\n",
        "wt_kmeansclus = kmeans.fit(X,sample_weight = w)\n",
        "\n",
        "# Se toman las etiquetas de esa clasificacion\n",
        "constitucion_destino['k'] = wt_kmeansclus.labels_"
      ],
      "metadata": {
        "id": "LdKY9DfTXh-4"
      },
      "execution_count": null,
      "outputs": []
    },
    {
      "cell_type": "code",
      "source": [
        "constitucion_destino.reindex(columns = ['k','FACTOR_EXPANSION']).groupby('k').sum()['FACTOR_EXPANSION']\n"
      ],
      "metadata": {
        "id": "FCo10zxwXzOJ"
      },
      "execution_count": null,
      "outputs": []
    },
    {
      "cell_type": "code",
      "source": [
        "geom = gpd.GeoSeries.from_xy(x=constitucion_destino.LONGITUD, y=constitucion_destino.LATITUD, crs=4326)\n",
        "constitucion_destino = gpd.GeoDataFrame(constitucion_destino, geometry = geom, crs = 4326)\n",
        "\n",
        "colors = ['red', 'blue', 'green', 'orange', 'purple', 'yellow', 'cyan', 'magenta', 'brown', 'black']\n",
        "\n",
        "constitucion_destino.explore (column = 'k',\n",
        "       categorical = True,\n",
        "       cmap = colors)"
      ],
      "metadata": {
        "id": "x-RPJ3WOX6EY"
      },
      "execution_count": null,
      "outputs": []
    },
    {
      "cell_type": "code",
      "source": [
        "colors = ['red', 'blue', 'green', 'orange', 'purple', 'yellow', 'cyan', 'magenta', 'brown', 'black']\n",
        "\n",
        "# Plot using explore with custom colors\n",
        "constitucion_destino.explore(\n",
        "    column='k',\n",
        "    categorical=True,\n",
        "    cmap=colors\n",
        ")"
      ],
      "metadata": {
        "id": "vLQRZGx6gQ2B"
      },
      "execution_count": null,
      "outputs": []
    },
    {
      "cell_type": "markdown",
      "source": [
        "# **DBSCAN**"
      ],
      "metadata": {
        "id": "s3z_msqRsD7w"
      }
    },
    {
      "cell_type": "code",
      "source": [
        "from sklearn.cluster import DBSCAN"
      ],
      "metadata": {
        "id": "t0JJ1b_ZYX4I"
      },
      "execution_count": null,
      "outputs": []
    },
    {
      "cell_type": "code",
      "source": [
        "dbscan = DBSCAN(eps=0.007, min_samples=3)\n",
        "wt_dbscanclus = dbscan.fit(X,sample_weight = w)\n",
        "constitucion_destino['dbscan'] = wt_dbscanclus.labels_\n"
      ],
      "metadata": {
        "id": "jKOaeJ1BX2DK"
      },
      "execution_count": null,
      "outputs": []
    },
    {
      "cell_type": "code",
      "source": [
        "constitucion_destino.dbscan.value_counts(normalize=True)\n"
      ],
      "metadata": {
        "id": "D0tFgFZkSqGD"
      },
      "execution_count": null,
      "outputs": []
    },
    {
      "cell_type": "code",
      "source": [
        "\n",
        "constitucion_destino.explore(column = 'dbscan', categorical = True)"
      ],
      "metadata": {
        "id": "LspegKXXVW4F"
      },
      "execution_count": null,
      "outputs": []
    },
    {
      "cell_type": "code",
      "source": [
        "constitucion_destino.query(\"dbscan >= 0\").explore(column = 'dbscan', categorical = True, tiles=\"CartoDB positron\")"
      ],
      "metadata": {
        "id": "NS1GMPcNV9Uu"
      },
      "execution_count": null,
      "outputs": []
    },
    {
      "cell_type": "markdown",
      "source": [
        "# GM"
      ],
      "metadata": {
        "id": "0WTirrq2kBPX"
      }
    },
    {
      "cell_type": "code",
      "source": [
        "from sklearn.mixture import GaussianMixture"
      ],
      "metadata": {
        "id": "e50b3AzEhuXE"
      },
      "execution_count": null,
      "outputs": []
    },
    {
      "cell_type": "code",
      "source": [
        "# Se crea el objeto\n",
        "gm = GaussianMixture(n_components= 5, random_state=0)\n",
        "\n",
        "# Se fitea\n",
        "wt_gmclus = gm.fit(X)\n",
        "\n",
        "# En este caso sepuede predecir con datos nuevos o con los mismos datos\n",
        "constitucion_destino['gm'] = gm.predict(X)"
      ],
      "metadata": {
        "id": "yTm6-dVIWXDd"
      },
      "execution_count": null,
      "outputs": []
    },
    {
      "cell_type": "code",
      "source": [
        "constitucion_destino.explore(column = 'gm', categorical = True)"
      ],
      "metadata": {
        "id": "bHp2BdtKWTo7"
      },
      "execution_count": null,
      "outputs": []
    },
    {
      "cell_type": "markdown",
      "source": [
        "# **GRAFOS**"
      ],
      "metadata": {
        "id": "B5fw6DWssdxW"
      }
    },
    {
      "cell_type": "markdown",
      "source": [
        "En esta sección se buscará graficar la distancia más corta entre las estaciones de Constitución y Barrancas de Belgrano. También se calculará su distancia en bicicleta.\n",
        "\n",
        "Elegimos la estación Barrancas de Belgrano ya que en los gráficos anteriores podemos observar que es la que queda a mayor distancia de Constitución."
      ],
      "metadata": {
        "id": "LA-rwcDpJ7MK"
      }
    },
    {
      "cell_type": "code",
      "source": [
        "!pip install osmnx mapclassify\n",
        "\n",
        "import osmnx as ox\n",
        "import networkx as nx\n",
        "import matplotlib.pyplot as plt\n",
        "from geopy.distance import geodesic\n",
        "import pandas as pd\n",
        "\n",
        "# 1. Definir el área de estudio - Buenos Aires\n",
        "city = \"Buenos Aires, Argentina\"\n",
        "\n",
        "# Descargar el grafo de la red de calles de la ciudad\n",
        "#\n",
        "G = ox.graph_from_place(city, network_type='bike')\n",
        "\n",
        "# Guardar el grafo en formato GraphML\n",
        "#\n",
        "ox.save_graphml(G, filepath=data_path+'buenos_aires_grafo.graphml')\n",
        "\n",
        "# Leer desde el archivo\n",
        "G = ox.load_graphml(data_path+'buenos_aires_grafo.graphml')"
      ],
      "metadata": {
        "id": "tnITURT7skf9"
      },
      "execution_count": null,
      "outputs": []
    },
    {
      "cell_type": "code",
      "source": [
        "fig, ax = ox.plot_graph(G)"
      ],
      "metadata": {
        "id": "bYxqZRg16wK3"
      },
      "execution_count": null,
      "outputs": []
    },
    {
      "cell_type": "code",
      "source": [
        "barrancas = (-58.448314, -34.559801\t)\n",
        "constitucion = (-58.380707,-34.626851\t)"
      ],
      "metadata": {
        "id": "NeZCniDrBWfj"
      },
      "execution_count": null,
      "outputs": []
    },
    {
      "cell_type": "code",
      "source": [
        "nodo_barrancas = ox.distance.nearest_nodes(G, X = barrancas[0], Y = barrancas [1])\n",
        "nodo_constitucion = ox.distance.nearest_nodes(G, X = constitucion[0], Y = constitucion[1])"
      ],
      "metadata": {
        "id": "mMWwZjYxIy1N"
      },
      "execution_count": null,
      "outputs": []
    },
    {
      "cell_type": "code",
      "source": [
        "route = ox.shortest_path(G, nodo_constitucion, nodo_barrancas, weight=\"length\")\n",
        "fig, ax = ox.plot_graph_route(G, route, node_size=0)\n"
      ],
      "metadata": {
        "id": "AqAXRJk0JIak"
      },
      "execution_count": null,
      "outputs": []
    },
    {
      "cell_type": "code",
      "source": [
        "distance_meters = nx.shortest_path_length(G, nodo_constitucion, nodo_barrancas, weight='length')\n",
        "\n",
        "# Convertir la distancia a kilómetros\n",
        "distance_km = distance_meters / 1000\n",
        "\n",
        "print(f\"La distancia entre la estacion Constitucion y Barrancas de Belgrano es de aproximadamente {distance_km:.2f} km\")"
      ],
      "metadata": {
        "id": "WGEjbRMTJZ_S"
      },
      "execution_count": null,
      "outputs": []
    }
  ]
}